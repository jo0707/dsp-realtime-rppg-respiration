{
 "cells": [
  {
   "cell_type": "code",
   "execution_count": 9,
   "id": "e0bf45a5",
   "metadata": {},
   "outputs": [],
   "source": [
    "import cv2\n",
    "import numpy as np\n",
    "import matplotlib.pyplot as plt"
   ]
  },
  {
   "cell_type": "code",
   "execution_count": null,
   "id": "8fd94113",
   "metadata": {},
   "outputs": [],
   "source": [
    "# Inisialisasi MediaPipe Face Detection\n",
    "mp_face_detection = mp.solutions.face_detection\n",
    "\n",
    "# Fungsi untuk mendeteksi wajah dari webcam\n",
    "def detect_faces_from_webcam():\n",
    "    # Membuka webcam\n",
    "    cap = cv2.VideoCapture(0)\n",
    "    if not cap.isOpened():\n",
    "        print(\"Webcam tidak tersedia.\")\n",
    "        return\n",
    "\n",
    "    # Inisialisasi Deteksi Wajah\n",
    "    with mp_face_detection.FaceDetection(model_selection=0, min_detection_confidence=0.5) as face_detection:\n",
    "        # Loop frame-by-frame dari webcam\n",
    "        while True:\n",
    "            success, frame = cap.read()\n",
    "            if not success:\n",
    "                print(\"Gagal menangkap frame.\")\n",
    "                break\n",
    "            \n",
    "            # Mengubah BGR ke RGB\n",
    "            img_rgb = cv2.cvtColor(frame, cv2.COLOR_BGR2RGB)\n",
    "\n",
    "            # Proses Wajah pada frame\n",
    "            results = face_detection.process(img_rgb)\n",
    "            # Menampilkan frame dengan bounding box\n",
    "            cv2.imshow('Deteksi Wajah - Webcam (Bounding Box)', frame)\n",
    "\n",
    "            if cv2.waitKey(1) & 0xFF == ord('b'):\n",
    "                break\n",
    "\n",
    "    cap.release()\n",
    "    cv2.destroyAllWindows()\n",
    "\n",
    "# Jalankan deteksi wajah dari webcam\n",
    "detect_faces_from_webcam()"
   ]
  },
  {
   "cell_type": "code",
   "execution_count": null,
   "id": "5e64350f",
   "metadata": {},
   "outputs": [],
   "source": []
  }
 ],
 "metadata": {
  "kernelspec": {
   "display_name": "dsp.venv",
   "language": "python",
   "name": "python3"
  },
  "language_info": {
   "codemirror_mode": {
    "name": "ipython",
    "version": 3
   },
   "file_extension": ".py",
   "mimetype": "text/x-python",
   "name": "python",
   "nbconvert_exporter": "python",
   "pygments_lexer": "ipython3",
   "version": "3.11.9"
  }
 },
 "nbformat": 4,
 "nbformat_minor": 5
}
